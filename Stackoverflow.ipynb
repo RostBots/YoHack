{
 "cells": [
  {
   "cell_type": "code",
   "execution_count": 85,
   "metadata": {},
   "outputs": [],
   "source": [
    "import requests\n",
    "from bs4 import BeautifulSoup\n",
    "\n",
    "def get_answers(text):\n",
    "    link = f'https://stackoverflow.com/search?q={\"+\".join(text.split())}&sort=votes'\n",
    "    answer = requests.get(link)\n",
    "    \n",
    "    soup = BeautifulSoup(answer.text, 'html.parser')\n",
    "    post = soup.find_all('a', {'class': 'question-hyperlink'})[:3]\n",
    "    \n",
    "    new_links = []\n",
    "    names = []\n",
    "    \n",
    "    for elem in post:\n",
    "        new_links.append('https://stackoverflow.com' + elem['href'])\n",
    "        names.append(elem.text)\n",
    "    \n",
    "    return new_links, names"
   ]
  },
  {
   "cell_type": "code",
   "execution_count": 86,
   "metadata": {},
   "outputs": [
    {
     "data": {
      "text/plain": [
       "(['https://stackoverflow.com/questions/287871/how-to-print-colored-text-in-terminal-in-python?r=SearchResults',\n",
       "  'https://stackoverflow.com/questions/22676/how-do-i-download-a-file-over-http-using-python?r=SearchResults',\n",
       "  'https://stackoverflow.com/questions/5214578/print-string-to-text-file?r=SearchResults'],\n",
       " ['\\r\\nQ: How to print colored text in terminal in Python?        ',\n",
       "  '\\r\\nQ: How do I download a file over HTTP using Python?        ',\n",
       "  '\\r\\nQ: Print string to text file        '])"
      ]
     },
     "execution_count": 86,
     "metadata": {},
     "output_type": "execute_result"
    }
   ],
   "source": [
    "get_answers('text python')"
   ]
  },
  {
   "cell_type": "code",
   "execution_count": null,
   "metadata": {},
   "outputs": [],
   "source": []
  }
 ],
 "metadata": {
  "kernelspec": {
   "display_name": "Python 3",
   "language": "python",
   "name": "python3"
  },
  "language_info": {
   "codemirror_mode": {
    "name": "ipython",
    "version": 3
   },
   "file_extension": ".py",
   "mimetype": "text/x-python",
   "name": "python",
   "nbconvert_exporter": "python",
   "pygments_lexer": "ipython3",
   "version": "3.6.9"
  }
 },
 "nbformat": 4,
 "nbformat_minor": 4
}
