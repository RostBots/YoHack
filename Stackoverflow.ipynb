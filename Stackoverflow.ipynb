{
 "cells": [
  {
   "cell_type": "code",
   "execution_count": 66,
   "metadata": {},
   "outputs": [],
   "source": [
    "import requests\n",
    "from bs4 import BeautifulSoup\n",
    "\n",
    "def get_answers(text):\n",
    "    link = f'https://stackoverflow.com/search?q={\"+\".join(text.split())}&sort=votes'\n",
    "    answer = requests.get(link)\n",
    "    \n",
    "    soup = BeautifulSoup(answer.text, 'html.parser')\n",
    "    \n",
    "    post = soup.find_all('a', {'class': 'question-hyperlink'})[0]\n",
    "    print('https://stackoverflow.com' + post['href'])\n",
    "    "
   ]
  },
  {
   "cell_type": "code",
   "execution_count": 67,
   "metadata": {},
   "outputs": [
    {
     "name": "stdout",
     "output_type": "stream",
     "text": [
      "https://stackoverflow.com//questions/287871/how-to-print-colored-text-in-terminal-in-python?r=SearchResults\n"
     ]
    }
   ],
   "source": [
    "get_answers('text python')"
   ]
  },
  {
   "cell_type": "code",
   "execution_count": null,
   "metadata": {},
   "outputs": [],
   "source": []
  }
 ],
 "metadata": {
  "kernelspec": {
   "display_name": "Python 3",
   "language": "python",
   "name": "python3"
  },
  "language_info": {
   "codemirror_mode": {
    "name": "ipython",
    "version": 3
   },
   "file_extension": ".py",
   "mimetype": "text/x-python",
   "name": "python",
   "nbconvert_exporter": "python",
   "pygments_lexer": "ipython3",
   "version": "3.6.9"
  }
 },
 "nbformat": 4,
 "nbformat_minor": 4
}
